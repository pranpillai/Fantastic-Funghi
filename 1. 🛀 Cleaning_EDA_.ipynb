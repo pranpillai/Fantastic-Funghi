{
 "cells": [
  {
   "cell_type": "markdown",
   "metadata": {},
   "source": [
    "# 1. 🛀 Cleaning/EDA:"
   ]
  },
  {
   "cell_type": "markdown",
   "metadata": {},
   "source": [
    "### The aim of the project is to distinguish between edible and poisonous mushrooms, and how best to achieve this classification. In order to do so, the first step is to clean our data. We then can explore it, and visualise it in order to help us find useful ways to model the data and find the best parameters to create that all important binary classification... "
   ]
  },
  {
   "cell_type": "markdown",
   "metadata": {},
   "source": []
  },
  {
   "cell_type": "markdown",
   "metadata": {},
   "source": [
    "## ✅ Cleaning:"
   ]
  },
  {
   "cell_type": "code",
   "execution_count": null,
   "metadata": {},
   "outputs": [],
   "source": [
    "import numpy as np\n",
    "import seaborn as sns\n",
    "import matplotlib.pyplot as plt\n",
    "import pandas as pd\n",
    "from sklearn.model_selection import train_test_split\n",
    "\n",
    "##\n",
    "from sklearn import datasets\n",
    "import sklearn.metrics as sm\n",
    "from sklearn.cluster import KMeans\n",
    "from sklearn.neighbors import KNeighborsClassifier\n",
    "from sklearn.metrics import accuracy_score\n"
   ]
  },
  {
   "cell_type": "markdown",
   "metadata": {},
   "source": [
    "Attribute Information: (classes: edible=e, poisonous=p)"
   ]
  },
  {
   "cell_type": "markdown",
   "metadata": {},
   "source": [
    "* cap-shape: bell=b,conical=c,convex=x,flat=f, knobbed=k,sunken=s\n",
    "\n",
    "* cap-surface: fibrous=f,grooves=g,scaly=y,smooth=s\n",
    "\n",
    "* cap-color: brown=n,buff=b,cinnamon=c,gray=g,green=r,pink=p,purple=u,red=e,white=w,yellow=y\n",
    "\n",
    "* bruises: bruises=t,no=f\n",
    "\n",
    "* odor: almond=a,anise=l,creosote=c,fishy=y,foul=f,musty=m,none=n,pungent=p,spicy=s\n",
    "\n",
    "* gill-attachment: attached=a,descending=d,free=f,notched=n\n",
    "\n",
    "* gill-spacing: close=c,crowded=w,distant=d\n",
    "\n",
    "* gill-size: broad=b,narrow=n\n",
    "\n",
    "* gill-color: black=k,brown=n,buff=b,chocolate=h,gray=g, green=r,orange=o,pink=p,purple=u,red=e,white=w,yellow=y\n",
    "\n",
    "* stalk-shape: enlarging=e,tapering=t\n",
    "\n",
    "* stalk-root: bulbous=b,club=c,cup=u,equal=e,rhizomorphs=z,rooted=r,missing=?\n",
    "\n",
    "* stalk-surface-above-ring: fibrous=f,scaly=y,silky=k,smooth=s\n",
    "\n",
    "* stalk-surface-below-ring: fibrous=f,scaly=y,silky=k,smooth=s\n",
    "\n",
    "* stalk-color-above-ring: brown=n,buff=b,cinnamon=c,gray=g,orange=o,pink=p,red=e,white=w,yellow=y\n",
    "\n",
    "* stalk-color-below-ring: brown=n,buff=b,cinnamon=c,gray=g,orange=o,pink=p,red=e,white=w,yellow=y\n",
    "\n",
    "* veil-type: partial=p,universal=u\n",
    "\n",
    "* veil-color: brown=n,orange=o,white=w,yellow=y\n",
    "\n",
    "* ring-number: none=n,one=o,two=t\n",
    "\n",
    "* ring-type: cobwebby=c,evanescent=e,flaring=f,large=l,none=n,pendant=p,sheathing=s,zone=z\n",
    "\n",
    "* spore-print-color: black=k,brown=n,buff=b,chocolate=h,green=r,orange=o,purple=u,white=w,yellow=y\n",
    "\n",
    "* population: abundant=a,clustered=c,numerous=n,scattered=s,several=v,solitary=y\n",
    "\n",
    "* habitat: grasses=g,leaves=l,meadows=m,paths=p,urban=u,waste=w,woods=d"
   ]
  },
  {
   "cell_type": "code",
   "execution_count": null,
   "metadata": {},
   "outputs": [],
   "source": [
    "df = pd.read_csv(\"mushrooms.csv\")\n",
    "df"
   ]
  },
  {
   "cell_type": "code",
   "execution_count": null,
   "metadata": {},
   "outputs": [],
   "source": [
    "df.dtypes"
   ]
  },
  {
   "cell_type": "code",
   "execution_count": null,
   "metadata": {},
   "outputs": [],
   "source": [
    "# breakdown of edible and poisonous mushrooms- 4208 edible and 3916 poisonous mushrooms\n",
    "\n",
    "df['class'].value_counts()"
   ]
  },
  {
   "cell_type": "code",
   "execution_count": null,
   "metadata": {},
   "outputs": [],
   "source": [
    "# no nulls\n",
    "\n",
    "df.isna().sum()"
   ]
  },
  {
   "cell_type": "code",
   "execution_count": null,
   "metadata": {},
   "outputs": [],
   "source": [
    "# this gives a full breakdown of each unique value in each column\n",
    "\n",
    "for col in df.columns:\n",
    "    print(col, \" : \", df[col].unique())"
   ]
  },
  {
   "cell_type": "code",
   "execution_count": null,
   "metadata": {},
   "outputs": [],
   "source": [
    "# changing hyphens to underscore (for my own satisfaction)\n",
    "\n",
    "df.columns = [x.replace('-','_') for x in df.columns]\n",
    "df.columns"
   ]
  },
  {
   "cell_type": "code",
   "execution_count": null,
   "metadata": {},
   "outputs": [],
   "source": [
    "# dropping veil types as its the same for all\n",
    "\n",
    "df.drop(['veil_type'] , axis =1, inplace=True)\n",
    "df.columns"
   ]
  },
  {
   "cell_type": "markdown",
   "metadata": {},
   "source": [
    "## ✅ Dictionary to rename all the keys with values:"
   ]
  },
  {
   "cell_type": "code",
   "execution_count": null,
   "metadata": {},
   "outputs": [],
   "source": [
    "# dicitionary to rename all the keys with values - comes in handy later on when we model\n",
    "\n",
    "class_ = {\"p\":\"poisonous\",\"e\":\"edible\"}\n",
    "df[\"class\"]=df[\"class\"].replace(class_)\n",
    "\n",
    "capshape = {\"b\":\"bell\",\"c\":\"conical\",\"x\":\"convex\",\"f\":\"flat\",\"k\":\"knobbed\",\"s\":\"sunken\"} \n",
    "df[\"cap_shape\"] = df[\"cap_shape\"].replace(capshape)\n",
    "\n",
    "capsurface = {\"f\": \"fibrous\", \"g\": \"grooves\",\"y\":\"scaly\",\"s\": \"smooth\"} \n",
    "df[\"cap_surface\"] = df[\"cap_surface\"].replace(capsurface)  \n",
    "\n",
    "capcolor = {\"n\":\"brown\",\"b\":\"buff\",\"c\":\"cinnamon\",\"g\":\"gray\",\"r\":\"green\",\n",
    "          \"p\":\"pink\",\"u\":\"purple\",\"e\":\"red\",\"w\":\"white\",\"y\":\"yellow\"} \n",
    "df[\"cap_color\"] = df[\"cap_color\"].replace(capcolor) \n",
    "\n",
    "bruises={\"t\":\"bruises\",\"f\":\"no\"}\n",
    "df[\"bruises\"]=df[\"bruises\"].replace(bruises)\n",
    "\n",
    "odor = {\"a\":\"almond\",\"l\":\"anise\",\"c\":\"creosote\",\"y\":\"fishy\",\"f\":\"foul\",\n",
    "      \"m\":\"musty\",\"n\":\"none\",\"p\":\"pungent\",\"s\":\"spicy\"} \n",
    "df[\"odor\"] = df[\"odor\"].replace(odor) \n",
    "\n",
    "gillattachment = {\"a\":\"attached\",\"f\":\"free\"} \n",
    "df[\"gill_attachment\"] = df[\"gill_attachment\"].replace(gillattachment)\n",
    "\n",
    "gillspacing = {\"c\":\"close\",\"w\":\"crowded\"} \n",
    "df[\"gill_spacing\"] = df[\"gill_spacing\"].replace(gillspacing) \n",
    "\n",
    "gillsize={\"b\":\"broad\",\"n\":\"narrow\"} \n",
    "df[\"gill_size\"] = df[\"gill_size\"].replace(gillsize)\n",
    "\n",
    "gillcolor={'k': 'black','n': 'brown','g': 'gray','p': 'pink', 'w': 'white', 'h': 'chocolate',\n",
    "           'u': 'purple', 'e': 'red', 'b': 'buff', 'r': 'green', 'y': 'yellow', 'o': 'orange'}\n",
    "df[\"gill_color\"] = df[\"gill_color\"].replace(gillcolor)\n",
    "\n",
    "stalkshape = {'e':'enlargeing','t': 'tapering'}\n",
    "df['stalk_shape'] = df['stalk_shape'].replace(stalkshape)\n",
    "\n",
    "stalkroot = {'e': 'equal', 'c': 'club', 'b': 'bulbous', 'r': 'rooted', '?': 'missing'}\n",
    "df['stalk_root'] = df['stalk_root'].replace(stalkroot)\n",
    "\n",
    "stalksurfaceabovering = {'s': 'smooth', 'f' : 'fibrous', 'k': 'silky', 'y': 'scaly'}\n",
    "df['stalk_surface_above_ring'] = df['stalk_surface_above_ring'].replace(stalksurfaceabovering)\n",
    "\n",
    "stalksurfacebelowring = {'s': 'smooth', 'f' : 'fibrous', 'k': 'silky', 'y': 'scaly'}\n",
    "df['stalk_surface_below_ring'] = df['stalk_surface_below_ring'].replace(stalksurfacebelowring)\n",
    "\n",
    "stalkcolorabovering = {'n': 'brown','g': 'gray','p': 'pink', 'w': 'white',\n",
    "                       'e': 'red', 'b': 'buff', 'c': 'cinammon','y': 'yellow', 'o': 'orange'}\n",
    "df['stalk_color_above_ring'] = df['stalk_color_above_ring'].replace(stalkcolorabovering)\n",
    "\n",
    "stalkcolorbelowring = {'n': 'brown','g': 'gray','p': 'pink', 'w': 'white',\n",
    "                       'e': 'red', 'b': 'buff', 'c': 'cinammon','y': 'yellow', 'o': 'orange'}\n",
    "df['stalk_color_below_ring'] = df['stalk_color_below_ring'].replace(stalkcolorbelowring)\n",
    "\n",
    "veilcolor={\"n\":\"brown\",\"o\":\"orange\",\"w\":\"white\",\"y\":\"yellow\"} \n",
    "df[\"veil_color\"]=df[\"veil_color\"].replace(veilcolor)\n",
    "\n",
    "ringnumber= {\"n\":\"none\",\"o\":\"one\",\"t\":\"two\"}\n",
    "df[\"ring_number\"]=df[\"ring_number\"].replace(ringnumber)\n",
    "\n",
    "ringtype={\"c\":\"cobwebby\",\"e\":\"evanescent\",\"f\":\"flaring\",\"l\":\"large\",\"n\":\"none\",\"p\":\"pendant\",\"s\":\"sheathing\",\"z\":\"zone\"}\n",
    "df[\"ring_type\"]=df[\"ring_type\"].replace(ringtype)\n",
    "\n",
    "sporeprintcolor= {\"k\":\"black\",\"n\":\"brown\",\"b\":\"buff\",\"h\":\"chocolate\",\"r\":\"green\",\"o\":\"orange\",\"u\":\"purple\",\"w\":\"white\",\"y\":\"yellow\"}\n",
    "df[\"spore_print_color\"]=df[\"spore_print_color\"].replace(sporeprintcolor)\n",
    "\n",
    "population={\"a\":\"abundant\",\"c\":\"clustered\",\"n\":\"numerous\",\"s\":\"scattered\",\"v\":\"several\",\"y\":\"solitary\"}\n",
    "df[\"population\"]=df[\"population\"].replace(population)\n",
    "\n",
    "habitat={\"g\":\"grasses\",\"l\":\"leaves\",\"m\":\"meadows\",\"p\":\"paths\",\"u\":\"urban\",\"w\":\"waste\",\"d\":\"woods\"}\n",
    "df[\"habitat\"]=df[\"habitat\"].replace(habitat)"
   ]
  },
  {
   "cell_type": "markdown",
   "metadata": {},
   "source": [
    "## ✅ EDA:"
   ]
  },
  {
   "cell_type": "code",
   "execution_count": null,
   "metadata": {},
   "outputs": [],
   "source": [
    "# a function/for loop used here to output displots on the data\n",
    "\n",
    "def grapher(col):\n",
    "    \n",
    "    x = sns.displot \n",
    "    x(data = df, x = col,  hue= 'class', height = 4, aspect = 0.7)\n",
    "    plt.title(f'Graph of {col} broken down by class')\n",
    "    \n",
    "\n",
    "for key in df.columns:\n",
    "    grapher(key)\n",
    "    plt.xticks(rotation=90)\n",
    "    plt.show()\n",
    "\n"
   ]
  },
  {
   "cell_type": "markdown",
   "metadata": {},
   "source": []
  },
  {
   "cell_type": "code",
   "execution_count": null,
   "metadata": {},
   "outputs": [],
   "source": [
    "# saving the cleaned version to then use in modelling\n",
    "\n",
    "df.to_csv('cleaned_mushrooms.csv', index = False)"
   ]
  },
  {
   "cell_type": "markdown",
   "metadata": {},
   "source": []
  }
 ],
 "metadata": {
  "createdWith": "Filament",
  "kernelspec": {
   "display_name": "Python 3 (ipykernel)",
   "language": "python",
   "name": "python3"
  },
  "language_info": {
   "codemirror_mode": {
    "name": "ipython",
    "version": 3
   },
   "file_extension": ".py",
   "mimetype": "text/x-python",
   "name": "python",
   "nbconvert_exporter": "python",
   "pygments_lexer": "ipython3",
   "version": "3.9.7"
  }
 },
 "nbformat": 4,
 "nbformat_minor": 1
}
